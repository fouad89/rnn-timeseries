{
 "cells": [
  {
   "cell_type": "markdown",
   "source": [
    "<h2>RNN for Image Classification</h2>\n",
    "using RNN to classify MNIST data\n"
   ],
   "metadata": {}
  },
  {
   "cell_type": "code",
   "execution_count": 1,
   "source": [
    "import numpy as np \n",
    "import pandas as pd\n",
    "import matplotlib.pyplot as plt\n",
    "\n",
    "import tensorflow as tf\n",
    "from tensorflow.keras.layers import Input, Dense, LSTM, GlobalMaxPool1D, Flatten\n",
    "from tensorflow.keras.models import Model\n",
    "from tensorflow.keras.optimizers import Adam"
   ],
   "outputs": [],
   "metadata": {}
  },
  {
   "cell_type": "code",
   "execution_count": 2,
   "source": [
    "# loading the data\n",
    "mnist = tf.keras.datasets.mnist\n",
    "(x_train, y_train), (x_test, y_test) = mnist.load_data()\n",
    "# noremalize data\n",
    "x_train, x_test = x_train/255.0, x_test/255.0\n",
    "print(f\"x_train shape: {x_train.shape}\")"
   ],
   "outputs": [
    {
     "output_type": "stream",
     "name": "stdout",
     "text": [
      "Downloading data from https://storage.googleapis.com/tensorflow/tf-keras-datasets/mnist.npz\n",
      "11493376/11490434 [==============================] - 2s 0us/step\n",
      "x_train shape: (60000, 28, 28)\n"
     ]
    }
   ],
   "metadata": {}
  },
  {
   "cell_type": "code",
   "execution_count": 16,
   "source": [
    "T = x_train.shape[1]\n",
    "D = x_train.shape[2]\n",
    "M = 128\n",
    "K = len(np.unique(y_train)) # 10\n",
    "\n",
    "i = Input(shape=x_train[0].shape)\n",
    "x = LSTM(M)(i)\n",
    "x = Dense(K, activation='softmax')(x)\n",
    "model= Model(i, x)\n",
    "model.compile(loss='sparse_categorical_crossentropy', metrics=['accuracy'], optimizer=Adam(lr=0.1))\n",
    "model.summary()\n"
   ],
   "outputs": [
    {
     "output_type": "stream",
     "name": "stdout",
     "text": [
      "Model: \"functional_3\"\n",
      "_________________________________________________________________\n",
      "Layer (type)                 Output Shape              Param #   \n",
      "=================================================================\n",
      "input_2 (InputLayer)         [(None, 28, 28)]          0         \n",
      "_________________________________________________________________\n",
      "lstm_1 (LSTM)                (None, 128)               80384     \n",
      "_________________________________________________________________\n",
      "dense_1 (Dense)              (None, 10)                1290      \n",
      "=================================================================\n",
      "Total params: 81,674\n",
      "Trainable params: 81,674\n",
      "Non-trainable params: 0\n",
      "_________________________________________________________________\n"
     ]
    }
   ],
   "metadata": {}
  },
  {
   "cell_type": "code",
   "execution_count": 17,
   "source": [
    "r = model.fit(x_train, y_train, epochs=10, validation_data=(x_test, y_test))"
   ],
   "outputs": [
    {
     "output_type": "stream",
     "name": "stdout",
     "text": [
      "Epoch 1/10\n",
      "1875/1875 [==============================] - 59s 32ms/step - loss: 1.5098 - accuracy: 0.4509 - val_loss: 1.6055 - val_accuracy: 0.4500\n",
      "Epoch 2/10\n",
      "1875/1875 [==============================] - 64s 34ms/step - loss: 1.4031 - accuracy: 0.4954 - val_loss: 1.1962 - val_accuracy: 0.5767\n",
      "Epoch 3/10\n",
      "1875/1875 [==============================] - 68s 36ms/step - loss: 1.4330 - accuracy: 0.4877 - val_loss: 1.5235 - val_accuracy: 0.4550\n",
      "Epoch 4/10\n",
      "1875/1875 [==============================] - 62s 33ms/step - loss: 1.3141 - accuracy: 0.5477 - val_loss: 1.1421 - val_accuracy: 0.6000\n",
      "Epoch 5/10\n",
      "1875/1875 [==============================] - 70s 37ms/step - loss: 1.1162 - accuracy: 0.6209 - val_loss: 1.3414 - val_accuracy: 0.5650\n",
      "Epoch 6/10\n",
      "1875/1875 [==============================] - 65s 35ms/step - loss: 1.0777 - accuracy: 0.6355 - val_loss: 1.0379 - val_accuracy: 0.6535\n",
      "Epoch 7/10\n",
      "1875/1875 [==============================] - 76s 40ms/step - loss: 1.1059 - accuracy: 0.6223 - val_loss: 1.1111 - val_accuracy: 0.6363\n",
      "Epoch 8/10\n",
      "1875/1875 [==============================] - 66s 35ms/step - loss: 1.1238 - accuracy: 0.6219 - val_loss: 1.1785 - val_accuracy: 0.5997\n",
      "Epoch 9/10\n",
      "1875/1875 [==============================] - 66s 35ms/step - loss: 1.2351 - accuracy: 0.5662 - val_loss: 1.4289 - val_accuracy: 0.5170\n",
      "Epoch 10/10\n",
      "1875/1875 [==============================] - 65s 34ms/step - loss: 1.3104 - accuracy: 0.5472 - val_loss: 1.4058 - val_accuracy: 0.5197\n"
     ]
    }
   ],
   "metadata": {}
  },
  {
   "cell_type": "code",
   "execution_count": 19,
   "source": [
    "# test data prediction \n",
    "p_test = model.predict(x_test).argmax(axis=1)\n",
    "misclassified = np.where(p_test!=y_test)[0]\n",
    "i = np.random.choice(misclassified)\n",
    "plt.imshow(x_test[i], cmap='gray')\n",
    "plt.title(f\"True label: {y_test[i]}, Predicted: {p_test[i]}\")"
   ],
   "outputs": [
    {
     "output_type": "execute_result",
     "data": {
      "text/plain": [
       "Text(0.5, 1.0, 'True label: 5, Predicted: 8')"
      ]
     },
     "metadata": {},
     "execution_count": 19
    },
    {
     "output_type": "display_data",
     "data": {
      "image/png": "[encoded data removed]",
      "text/plain": [
       "<Figure size 432x288 with 1 Axes>"
      ]
     },
     "metadata": {
      "needs_background": "light"
     }
    }
   ],
   "metadata": {}
  },
  {
   "cell_type": "code",
   "execution_count": null,
   "source": [],
   "outputs": [],
   "metadata": {}
  }
 ],
 "metadata": {
  "orig_nbformat": 4,
  "language_info": {
   "name": "python",
   "version": "3.7.6",
   "mimetype": "text/x-python",
   "codemirror_mode": {
    "name": "ipython",
    "version": 3
   },
   "pygments_lexer": "ipython3",
   "nbconvert_exporter": "python",
   "file_extension": ".py"
  },
  "kernelspec": {
   "name": "python3",
   "display_name": "Python 3.7.6 64-bit ('base': conda)"
  },
  "interpreter": {
   "hash": "016f416f43c7de9d71e7f049375c6b8b903fae571cb02d2ed6c16dadea121115"
  }
 },
 "nbformat": 4,
 "nbformat_minor": 2
}