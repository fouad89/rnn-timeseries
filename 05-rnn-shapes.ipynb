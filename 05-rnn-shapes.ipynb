{
 "cells": [
  {
   "cell_type": "markdown",
   "source": [
    "<h3>Dimensions to Consider</h3>\n",
    "<li>N = number of samples</li>\n",
    "<li>T = sequence length</li>\n",
    "<li>D = Number of features</li>\n",
    "<li>M = number of hidden unites</li>\n",
    "<li>K = number of output units</li>\n"
   ],
   "metadata": {}
  },
  {
   "cell_type": "code",
   "execution_count": 47,
   "source": [
    "import numpy as np\n",
    "import pandas as pd\n",
    "import matplotlib.pyplot as plt\n",
    "\n",
    "import tensorflow as tf\n",
    "from tensorflow.keras.layers import Input, Dense, SimpleRNN\n",
    "from tensorflow.keras.models import Model\n",
    "from tensorflow.keras.optimizers import Adam\n",
    "\n",
    "from IPython.display import display, Latex\n",
    "\n",
    "# setting the generator seed\n",
    "rng = np.random.RandomState(42)"
   ],
   "outputs": [],
   "metadata": {}
  },
  {
   "cell_type": "code",
   "execution_count": 22,
   "source": [
    "# making data\n",
    "N = 1 # 1 sample\n",
    "T = 10 # sequence length\n",
    "D = 3 # input features\n",
    "M = 5 # number of hidden unites\n",
    "K = 2 # output units \n",
    "X = rng.randn(N, T, D)"
   ],
   "outputs": [],
   "metadata": {}
  },
  {
   "cell_type": "code",
   "execution_count": 28,
   "source": [
    "# building the model\n",
    "i = Input(shape=(T, D))\n",
    "x = SimpleRNN(M)(i)\n",
    "x = Dense(K)(x)\n",
    "model = Model(i, x)\n",
    "model.compile(loss='mse', optimizer=Adam(lr=0.1))\n",
    "model.summary()"
   ],
   "outputs": [
    {
     "output_type": "stream",
     "name": "stdout",
     "text": [
      "Model: \"functional_3\"\n",
      "_________________________________________________________________\n",
      "Layer (type)                 Output Shape              Param #   \n",
      "=================================================================\n",
      "input_2 (InputLayer)         [(None, 10, 3)]           0         \n",
      "_________________________________________________________________\n",
      "simple_rnn_1 (SimpleRNN)     (None, 5)                 45        \n",
      "_________________________________________________________________\n",
      "dense_1 (Dense)              (None, 2)                 12        \n",
      "=================================================================\n",
      "Total params: 57\n",
      "Trainable params: 57\n",
      "Non-trainable params: 0\n",
      "_________________________________________________________________\n"
     ]
    }
   ],
   "metadata": {}
  },
  {
   "cell_type": "code",
   "execution_count": 30,
   "source": [
    "# sanity check\n",
    "yhat = model.predict(X)\n",
    "print(yhat)"
   ],
   "outputs": [
    {
     "output_type": "stream",
     "name": "stdout",
     "text": [
      "[[0.61979914 0.50029945]]\n"
     ]
    }
   ],
   "metadata": {}
  },
  {
   "cell_type": "code",
   "execution_count": null,
   "source": [],
   "outputs": [],
   "metadata": {}
  },
  {
   "cell_type": "code",
   "execution_count": 34,
   "source": [
    "# model layers\n",
    "model.layers"
   ],
   "outputs": [
    {
     "output_type": "execute_result",
     "data": {
      "text/plain": [
       "[<tensorflow.python.keras.engine.input_layer.InputLayer at 0x7ff95957fa50>,\n",
       " <tensorflow.python.keras.layers.recurrent.SimpleRNN at 0x7ff95969c9d0>,\n",
       " <tensorflow.python.keras.layers.core.Dense at 0x7ff95a149f90>]"
      ]
     },
     "metadata": {},
     "execution_count": 34
    }
   ],
   "metadata": {}
  },
  {
   "cell_type": "code",
   "execution_count": 38,
   "source": [
    "# hidden layer weights, it has 3 arrays\n",
    "model.layers[1].get_weights()"
   ],
   "outputs": [
    {
     "output_type": "execute_result",
     "data": {
      "text/plain": [
       "[array([[ 0.13274437,  0.14516205, -0.32298732, -0.07638413, -0.83695805],\n",
       "        [-0.25998598, -0.10737938,  0.5534337 ,  0.66708213,  0.55854446],\n",
       "        [-0.12088317,  0.58395463, -0.07787549, -0.73673743, -0.22523081]],\n",
       "       dtype=float32),\n",
       " array([[ 0.54498386,  0.74629337, -0.18764403, -0.15247121, -0.2959407 ],\n",
       "        [ 0.27172825, -0.07464047,  0.66661906,  0.5622108 , -0.40016252],\n",
       "        [-0.5835363 ,  0.57272464, -0.08232725,  0.5531293 ,  0.13690114],\n",
       "        [ 0.38914013,  0.14762528,  0.29540795,  0.08997385,  0.85522836],\n",
       "        [ 0.37042084, -0.2960881 , -0.65296614,  0.58874774,  0.0461678 ]],\n",
       "       dtype=float32),\n",
       " array([0., 0., 0., 0., 0.], dtype=float32)]"
      ]
     },
     "metadata": {},
     "execution_count": 38
    }
   ],
   "metadata": {}
  },
  {
   "cell_type": "code",
   "execution_count": 43,
   "source": [
    "# get the shape of the arrays\n",
    "a, b, c = model.layers[1].get_weights()\n",
    "print(a.shape, b.shape, c.shape)\n",
    "print(f\"first array corresponds to input-to-hidden weight D X M {a.shape}\")\n",
    "print(f'second array corresponds to hidden-to-hidden weights M xM {b.shape}')\n",
    "print(f'3rd array is a vector corresponding to bias term weights {c.shape}')"
   ],
   "outputs": [
    {
     "output_type": "stream",
     "name": "stdout",
     "text": [
      "(3, 5) (5, 5) (5,)\n",
      "first array corresponds to input-to-hidden weight D X M (3, 5)\n",
      "second array corresponds to hidden-to-hidden weights M xM (5, 5)\n",
      "3rd array is a vector corresponding to bias term weights (5,)\n"
     ]
    }
   ],
   "metadata": {}
  },
  {
   "cell_type": "code",
   "execution_count": 44,
   "source": [
    "# corresponding to RNN formula:\n",
    "Wx, Wh, bh = model.layers[1].get_weights()\n",
    "Wo, bo = model.layers[2].get_weights()"
   ],
   "outputs": [],
   "metadata": {}
  },
  {
   "cell_type": "markdown",
   "source": [
    "$$h_t = \\sigma(W_{xh}^{T}x_t + W_{hh}^{T}h_{t-1}+b_{h})$$\n",
    "$$\\hat{y}_{t} = \\sigma(W_{o}^{T}h_{t}+b_{o})"
   ],
   "metadata": {}
  },
  {
   "cell_type": "code",
   "execution_count": 51,
   "source": [
    "h_last = np.zeros(M) # corresponds to h0\n",
    "x = X[0] # one sample\n",
    "Yhats = []\n",
    "for t in range(T):\n",
    "    h = np.tanh(x[t].dot(Wx) + h_last.dot(Wh) + bh)\n",
    "    y = h.dot(Wo) + bo\n",
    "    Yhats.append(y)\n",
    "    # assigning h to h_last\n",
    "    h_last = h\n",
    "\n",
    "# the final y\n",
    "print(Yhats[-1])"
   ],
   "outputs": [
    {
     "output_type": "stream",
     "name": "stdout",
     "text": [
      "[0.61979921 0.50029954]\n"
     ]
    }
   ],
   "metadata": {}
  },
  {
   "cell_type": "code",
   "execution_count": null,
   "source": [],
   "outputs": [],
   "metadata": {}
  }
 ],
 "metadata": {
  "orig_nbformat": 4,
  "language_info": {
   "name": "python",
   "version": "3.7.6",
   "mimetype": "text/x-python",
   "codemirror_mode": {
    "name": "ipython",
    "version": 3
   },
   "pygments_lexer": "ipython3",
   "nbconvert_exporter": "python",
   "file_extension": ".py"
  },
  "kernelspec": {
   "name": "python3",
   "display_name": "Python 3.7.6 64-bit ('base': conda)"
  },
  "interpreter": {
   "hash": "016f416f43c7de9d71e7f049375c6b8b903fae571cb02d2ed6c16dadea121115"
  }
 },
 "nbformat": 4,
 "nbformat_minor": 2
}