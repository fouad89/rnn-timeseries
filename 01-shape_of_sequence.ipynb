{
 "cells": [
  {
   "cell_type": "markdown",
   "source": [
    "## Sequence Data\n",
    "Given a time series example of stock data. The data is represented as a 3D array of N x T x D\n",
    "Where:\n",
    "<li>N = # samples</li>\n",
    "<li>T = # times steps in the sequence </li>\n",
    "<li>D = # features</li>\n",
    "\n",
    "<h3>Number of windows</h3>\n",
    "If we have a sequence of length L, and a window size T, then there are:</br>\n",
    "L - T + 1 windows. </br>\n",
    "Example: </br>\n",
    "<li>If we have a sequence of 100 stock prices</li>\n",
    "<li>the number of windows of size 10 </li>\n",
    "<li>100 - 10 + 1 = 91</li>\n",
    "\n",
    "So for 1 stock, D=1, T=10 for a window size of 10 mins, number of samples N is the number of windows in the time series (N=91)"
   ],
   "metadata": {}
  },
  {
   "cell_type": "markdown",
   "source": [],
   "metadata": {}
  },
  {
   "cell_type": "markdown",
   "source": [],
   "metadata": {}
  },
  {
   "cell_type": "markdown",
   "source": [],
   "metadata": {}
  }
 ],
 "metadata": {
  "orig_nbformat": 4,
  "language_info": {
   "name": "python"
  }
 },
 "nbformat": 4,
 "nbformat_minor": 2
}