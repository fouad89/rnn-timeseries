{
 "cells": [
  {
   "cell_type": "markdown",
   "source": [
    "## Sequence Data\n",
    "Given a time series example of stock data. The data is represented as a 3D array of N x T x D\n",
    "Where:\n",
    "<li>N = # samples</li>\n",
    "<li>T = # times steps in the sequence </li>\n",
    "<li>D = # features</li>\n",
    "\n",
    "<h3>Number of windows</h3>\n",
    "If we have a sequence of length L, and a window size T, then there are:</br>\n",
    "L - T + 1 windows. </br>\n",
    "Example: </br>\n",
    "<li>If we have a sequence of 100 stock prices</li>\n",
    "<li>the number of windows of size 10 </li>\n",
    "<li>100 - 10 + 1 = 91</li>\n",
    "\n",
    "So for 1 stock, D=1, T=10 for a window size of 10 mins, number of samples N is the number of windows in the time series (N=91)"
   ],
   "metadata": {}
  },
  {
   "cell_type": "markdown",
   "source": [
    "## Forecasting\n",
    "<li>predicting th enext values of a time series</li>\n",
    "<li>The number of future steps we want to predict is the horizon</li>\n",
    "\n",
    "<h3>Autoregressive (AR) Model </h3>\n",
    "\n",
    "$$\\hat{x}_{t} = w_0 + w_1 x_{t-1} + w_2 x_{t-2}+w_3 x_{t-3}$$"
   ],
   "metadata": {}
  },
  {
   "cell_type": "markdown",
   "source": [],
   "metadata": {}
  }
 ],
 "metadata": {
  "orig_nbformat": 4,
  "language_info": {
   "name": "python",
   "version": "3.7.6",
   "mimetype": "text/x-python",
   "codemirror_mode": {
    "name": "ipython",
    "version": 3
   },
   "pygments_lexer": "ipython3",
   "nbconvert_exporter": "python",
   "file_extension": ".py"
  },
  "kernelspec": {
   "name": "python3",
   "display_name": "Python 3.7.6 64-bit ('base': conda)"
  },
  "interpreter": {
   "hash": "016f416f43c7de9d71e7f049375c6b8b903fae571cb02d2ed6c16dadea121115"
  }
 },
 "nbformat": 4,
 "nbformat_minor": 2
}