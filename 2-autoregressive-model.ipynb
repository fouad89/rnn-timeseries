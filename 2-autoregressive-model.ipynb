{
 "cells": [
  {
   "cell_type": "code",
   "execution_count": 1,
   "source": [
    "import tensorflow as tf\n",
    "print(tf.__version__)"
   ],
   "outputs": [
    {
     "output_type": "stream",
     "name": "stdout",
     "text": [
      "2.3.1\n"
     ]
    }
   ],
   "metadata": {}
  },
  {
   "cell_type": "code",
   "execution_count": 3,
   "source": [
    "import numpy as np\n",
    "import pandas as pd\n",
    "import matplotlib.pyplot as plt\n",
    "\n",
    "\n",
    "from tensorflow.keras.layers import Input, Dense\n",
    "from tensorflow.keras.models import Model\n",
    "from tensorflow.keras.optimizers import SGD, Adam"
   ],
   "outputs": [],
   "metadata": {}
  },
  {
   "cell_type": "markdown",
   "source": [],
   "metadata": {}
  },
  {
   "cell_type": "code",
   "execution_count": 4,
   "source": [
    "# creating synthetic data with no noise\n",
    "\n",
    "series = np.sin(0.1*np.arange(200))\n",
    "plt.plot(series)"
   ],
   "outputs": [
    {
     "output_type": "execute_result",
     "data": {
      "text/plain": [
       "[<matplotlib.lines.Line2D at 0x7fab2d46d8d0>]"
      ]
     },
     "metadata": {},
     "execution_count": 4
    },
    {
     "output_type": "display_data",
     "data": {
      "image/png": "[encoded data removed]",
      "text/plain": [
       "<Figure size 432x288 with 1 Axes>"
      ]
     },
     "metadata": {
      "needs_background": "light"
     }
    }
   ],
   "metadata": {}
  },
  {
   "cell_type": "code",
   "execution_count": 8,
   "source": [
    "# creating X & Y using a window of size 10.\n",
    "T = 10\n",
    "X = []\n",
    "Y = []\n",
    "\n",
    "# for loop to create the windows and the targets\n",
    "for t in range(len(series) - T): # as the last window doesn't have values to predict\n",
    "    x = series[t:t+T]\n",
    "    X.append(x)\n",
    "    y = series[t+T]\n",
    "    Y.append(y)\n",
    "\n",
    "X = np.array(X).reshape(-1, T)\n",
    "Y = np.array(Y)\n",
    "N = len(X)\n",
    "print(f\"X Shape: {X.shape}\\nY Shape: {Y.shape}\\nN: {N}\")"
   ],
   "outputs": [
    {
     "output_type": "stream",
     "name": "stdout",
     "text": [
      "X Shape: (190, 10)\n",
      "Y Shape: (190,)\n",
      "N: 190\n"
     ]
    }
   ],
   "metadata": {}
  },
  {
   "cell_type": "code",
   "execution_count": 15,
   "source": [
    "# using Autoregressive model\n",
    "X_train, Y_train = X[:-N//2], Y[:-N//2]\n",
    "X_valid, Y_valid = X[-N//2:], Y[-N//2:]\n",
    "\n",
    "# building the model \n",
    "i = Input(shape=(T,))\n",
    "x = Dense(1)(i)\n",
    "model = Model(i, x)\n",
    "model.compile(loss='mse', optimizer=Adam(lr=0.1))\n",
    "\n",
    "# train the model\n",
    "history = model.fit(X_train, Y_train,\n",
    "epochs=90, validation_data=(X_valid, Y_valid)\n",
    ")"
   ],
   "outputs": [
    {
     "output_type": "stream",
     "name": "stdout",
     "text": [
      "Epoch 1/90\n",
      "3/3 [==============================] - 1s 233ms/step - loss: 1.9158 - val_loss: 0.1126\n",
      "Epoch 2/90\n",
      "3/3 [==============================] - 0s 14ms/step - loss: 0.3939 - val_loss: 0.7742\n",
      "Epoch 3/90\n",
      "3/3 [==============================] - 0s 12ms/step - loss: 0.8798 - val_loss: 0.4010\n",
      "Epoch 4/90\n",
      "3/3 [==============================] - 0s 17ms/step - loss: 0.1910 - val_loss: 0.0612\n",
      "Epoch 5/90\n",
      "3/3 [==============================] - 0s 12ms/step - loss: 0.1597 - val_loss: 0.2304\n",
      "Epoch 6/90\n",
      "3/3 [==============================] - 0s 16ms/step - loss: 0.3253 - val_loss: 0.1190\n",
      "Epoch 7/90\n",
      "3/3 [==============================] - 0s 12ms/step - loss: 0.1114 - val_loss: 0.0182\n",
      "Epoch 8/90\n",
      "3/3 [==============================] - 0s 18ms/step - loss: 0.0417 - val_loss: 0.1086\n",
      "Epoch 9/90\n",
      "3/3 [==============================] - 0s 16ms/step - loss: 0.1225 - val_loss: 0.0520\n",
      "Epoch 10/90\n",
      "3/3 [==============================] - 0s 20ms/step - loss: 0.0397 - val_loss: 0.0125\n",
      "Epoch 11/90\n",
      "3/3 [==============================] - 0s 14ms/step - loss: 0.0226 - val_loss: 0.0686\n",
      "Epoch 12/90\n",
      "3/3 [==============================] - 0s 13ms/step - loss: 0.0538 - val_loss: 0.0362\n",
      "Epoch 13/90\n",
      "3/3 [==============================] - 0s 13ms/step - loss: 0.0155 - val_loss: 0.0031\n",
      "Epoch 14/90\n",
      "3/3 [==============================] - 0s 15ms/step - loss: 0.0114 - val_loss: 0.0233\n",
      "Epoch 15/90\n",
      "3/3 [==============================] - 0s 13ms/step - loss: 0.0219 - val_loss: 0.0099\n",
      "Epoch 16/90\n",
      "3/3 [==============================] - 0s 13ms/step - loss: 0.0047 - val_loss: 0.0028\n",
      "Epoch 17/90\n",
      "3/3 [==============================] - 0s 17ms/step - loss: 0.0085 - val_loss: 0.0072\n",
      "Epoch 18/90\n",
      "3/3 [==============================] - 0s 16ms/step - loss: 0.0070 - val_loss: 4.1861e-04\n",
      "Epoch 19/90\n",
      "3/3 [==============================] - 0s 16ms/step - loss: 7.7489e-04 - val_loss: 0.0028\n",
      "Epoch 20/90\n",
      "3/3 [==============================] - 0s 14ms/step - loss: 0.0046 - val_loss: 0.0021\n",
      "Epoch 21/90\n",
      "3/3 [==============================] - 0s 14ms/step - loss: 0.0018 - val_loss: 8.2788e-04\n",
      "Epoch 22/90\n",
      "3/3 [==============================] - 0s 11ms/step - loss: 0.0017 - val_loss: 0.0027\n",
      "Epoch 23/90\n",
      "3/3 [==============================] - 0s 13ms/step - loss: 0.0019 - val_loss: 1.4046e-04\n",
      "Epoch 24/90\n",
      "3/3 [==============================] - 0s 15ms/step - loss: 2.9469e-04 - val_loss: 0.0013\n",
      "Epoch 25/90\n",
      "3/3 [==============================] - 0s 14ms/step - loss: 0.0011 - val_loss: 7.9087e-04\n",
      "Epoch 26/90\n",
      "3/3 [==============================] - 0s 13ms/step - loss: 3.2793e-04 - val_loss: 1.8039e-04\n",
      "Epoch 27/90\n",
      "3/3 [==============================] - 0s 12ms/step - loss: 4.6358e-04 - val_loss: 4.0139e-04\n",
      "Epoch 28/90\n",
      "3/3 [==============================] - 0s 16ms/step - loss: 2.5983e-04 - val_loss: 1.1465e-05\n",
      "Epoch 29/90\n",
      "3/3 [==============================] - 0s 13ms/step - loss: 1.5388e-04 - val_loss: 1.9895e-04\n",
      "Epoch 30/90\n",
      "3/3 [==============================] - 0s 15ms/step - loss: 2.1302e-04 - val_loss: 2.2107e-05\n",
      "Epoch 31/90\n",
      "3/3 [==============================] - 0s 10ms/step - loss: 3.9416e-05 - val_loss: 1.3616e-04\n",
      "Epoch 32/90\n",
      "3/3 [==============================] - 0s 13ms/step - loss: 1.3398e-04 - val_loss: 3.1253e-05\n",
      "Epoch 33/90\n",
      "3/3 [==============================] - 0s 10ms/step - loss: 2.5505e-05 - val_loss: 5.8820e-05\n",
      "Epoch 34/90\n",
      "3/3 [==============================] - 0s 11ms/step - loss: 6.2433e-05 - val_loss: 4.6319e-05\n",
      "Epoch 35/90\n",
      "3/3 [==============================] - 0s 12ms/step - loss: 1.7824e-05 - val_loss: 6.3691e-06\n",
      "Epoch 36/90\n",
      "3/3 [==============================] - 0s 12ms/step - loss: 2.0450e-05 - val_loss: 2.4522e-05\n",
      "Epoch 37/90\n",
      "3/3 [==============================] - 0s 13ms/step - loss: 1.4188e-05 - val_loss: 1.6420e-06\n",
      "Epoch 38/90\n",
      "3/3 [==============================] - 0s 18ms/step - loss: 8.3602e-06 - val_loss: 9.9596e-06\n",
      "Epoch 39/90\n",
      "3/3 [==============================] - 0s 62ms/step - loss: 9.9167e-06 - val_loss: 5.9597e-07\n",
      "Epoch 40/90\n",
      "3/3 [==============================] - 0s 19ms/step - loss: 2.5355e-06 - val_loss: 6.6058e-06\n",
      "Epoch 41/90\n",
      "3/3 [==============================] - 0s 13ms/step - loss: 6.2033e-06 - val_loss: 1.1661e-06\n",
      "Epoch 42/90\n",
      "3/3 [==============================] - 0s 13ms/step - loss: 1.7814e-06 - val_loss: 6.0602e-06\n",
      "Epoch 43/90\n",
      "3/3 [==============================] - 0s 12ms/step - loss: 3.9283e-06 - val_loss: 6.7755e-07\n",
      "Epoch 44/90\n",
      "3/3 [==============================] - 0s 12ms/step - loss: 5.1889e-07 - val_loss: 2.3310e-06\n",
      "Epoch 45/90\n",
      "3/3 [==============================] - 0s 12ms/step - loss: 2.2150e-06 - val_loss: 1.0536e-06\n",
      "Epoch 46/90\n",
      "3/3 [==============================] - 0s 11ms/step - loss: 5.1770e-07 - val_loss: 8.8783e-07\n",
      "Epoch 47/90\n",
      "3/3 [==============================] - 0s 13ms/step - loss: 1.3014e-06 - val_loss: 2.9636e-07\n",
      "Epoch 48/90\n",
      "3/3 [==============================] - 0s 12ms/step - loss: 2.3059e-07 - val_loss: 5.0824e-07\n",
      "Epoch 49/90\n",
      "3/3 [==============================] - 0s 11ms/step - loss: 8.0730e-07 - val_loss: 1.6672e-07\n",
      "Epoch 50/90\n",
      "3/3 [==============================] - 0s 14ms/step - loss: 1.9105e-07 - val_loss: 4.8246e-07\n",
      "Epoch 51/90\n",
      "3/3 [==============================] - 0s 11ms/step - loss: 4.7722e-07 - val_loss: 9.9523e-08\n",
      "Epoch 52/90\n",
      "3/3 [==============================] - 0s 11ms/step - loss: 8.6216e-08 - val_loss: 3.4276e-07\n",
      "Epoch 53/90\n",
      "3/3 [==============================] - 0s 11ms/step - loss: 2.8312e-07 - val_loss: 1.0855e-07\n",
      "Epoch 54/90\n",
      "3/3 [==============================] - 0s 14ms/step - loss: 6.9018e-08 - val_loss: 1.1629e-07\n",
      "Epoch 55/90\n",
      "3/3 [==============================] - 0s 11ms/step - loss: 1.3106e-07 - val_loss: 2.6755e-08\n",
      "Epoch 56/90\n",
      "3/3 [==============================] - 0s 11ms/step - loss: 2.8154e-08 - val_loss: 6.5873e-08\n",
      "Epoch 57/90\n",
      "3/3 [==============================] - 0s 11ms/step - loss: 7.8364e-08 - val_loss: 9.8585e-09\n",
      "Epoch 58/90\n",
      "3/3 [==============================] - 0s 12ms/step - loss: 1.6796e-08 - val_loss: 4.3232e-08\n",
      "Epoch 59/90\n",
      "3/3 [==============================] - 0s 13ms/step - loss: 3.1291e-08 - val_loss: 1.6600e-09\n",
      "Epoch 60/90\n",
      "3/3 [==============================] - 0s 12ms/step - loss: 9.6637e-09 - val_loss: 3.3678e-08\n",
      "Epoch 61/90\n",
      "3/3 [==============================] - 0s 13ms/step - loss: 1.7391e-08 - val_loss: 2.1918e-09\n",
      "Epoch 62/90\n",
      "3/3 [==============================] - 0s 20ms/step - loss: 6.6555e-09 - val_loss: 1.1132e-08\n",
      "Epoch 63/90\n",
      "3/3 [==============================] - 0s 19ms/step - loss: 6.9868e-09 - val_loss: 1.0453e-09\n",
      "Epoch 64/90\n",
      "3/3 [==============================] - 0s 14ms/step - loss: 5.0650e-09 - val_loss: 4.1128e-09\n",
      "Epoch 65/90\n",
      "3/3 [==============================] - 0s 13ms/step - loss: 3.6163e-09 - val_loss: 1.3739e-09\n",
      "Epoch 66/90\n",
      "3/3 [==============================] - 0s 24ms/step - loss: 2.9478e-09 - val_loss: 1.7075e-09\n",
      "Epoch 67/90\n",
      "3/3 [==============================] - 0s 14ms/step - loss: 1.2432e-09 - val_loss: 2.2931e-09\n",
      "Epoch 68/90\n",
      "3/3 [==============================] - 0s 13ms/step - loss: 2.1756e-09 - val_loss: 1.2394e-09\n",
      "Epoch 69/90\n",
      "3/3 [==============================] - 0s 11ms/step - loss: 5.6187e-10 - val_loss: 1.2509e-09\n",
      "Epoch 70/90\n",
      "3/3 [==============================] - 0s 11ms/step - loss: 1.2718e-09 - val_loss: 6.3137e-10\n",
      "Epoch 71/90\n",
      "3/3 [==============================] - 0s 16ms/step - loss: 3.8277e-10 - val_loss: 6.3248e-10\n",
      "Epoch 72/90\n",
      "3/3 [==============================] - 0s 16ms/step - loss: 6.8099e-10 - val_loss: 1.3623e-11\n",
      "Epoch 73/90\n",
      "3/3 [==============================] - 0s 15ms/step - loss: 1.7811e-10 - val_loss: 3.0251e-10\n",
      "Epoch 74/90\n",
      "3/3 [==============================] - 0s 13ms/step - loss: 2.8008e-10 - val_loss: 1.2547e-10\n",
      "Epoch 75/90\n",
      "3/3 [==============================] - 0s 12ms/step - loss: 1.6865e-10 - val_loss: 2.4298e-10\n",
      "Epoch 76/90\n",
      "3/3 [==============================] - 0s 14ms/step - loss: 9.7730e-11 - val_loss: 6.3823e-11\n",
      "Epoch 77/90\n",
      "3/3 [==============================] - 0s 22ms/step - loss: 1.2465e-10 - val_loss: 1.1775e-10\n",
      "Epoch 78/90\n",
      "3/3 [==============================] - 0s 18ms/step - loss: 4.7010e-11 - val_loss: 4.4486e-11\n",
      "Epoch 79/90\n",
      "3/3 [==============================] - 0s 24ms/step - loss: 6.8931e-11 - val_loss: 9.6368e-12\n",
      "Epoch 80/90\n",
      "3/3 [==============================] - 0s 18ms/step - loss: 1.2851e-11 - val_loss: 3.2872e-11\n",
      "Epoch 81/90\n",
      "3/3 [==============================] - 0s 19ms/step - loss: 4.0390e-11 - val_loss: 6.7288e-12\n",
      "Epoch 82/90\n",
      "3/3 [==============================] - 0s 17ms/step - loss: 1.7149e-11 - val_loss: 2.5730e-11\n",
      "Epoch 83/90\n",
      "3/3 [==============================] - 0s 9ms/step - loss: 1.4471e-11 - val_loss: 1.1973e-11\n",
      "Epoch 84/90\n",
      "3/3 [==============================] - 0s 13ms/step - loss: 1.5039e-11 - val_loss: 1.6813e-11\n",
      "Epoch 85/90\n",
      "3/3 [==============================] - 0s 23ms/step - loss: 4.6638e-12 - val_loss: 4.2317e-12\n",
      "Epoch 86/90\n",
      "3/3 [==============================] - 0s 13ms/step - loss: 6.4862e-12 - val_loss: 2.3340e-12\n",
      "Epoch 87/90\n",
      "3/3 [==============================] - 0s 16ms/step - loss: 2.0842e-12 - val_loss: 3.3187e-12\n",
      "Epoch 88/90\n",
      "3/3 [==============================] - 0s 21ms/step - loss: 3.7116e-12 - val_loss: 7.6189e-13\n",
      "Epoch 89/90\n",
      "3/3 [==============================] - 0s 24ms/step - loss: 1.4845e-12 - val_loss: 1.1146e-12\n",
      "Epoch 90/90\n",
      "3/3 [==============================] - 0s 14ms/step - loss: 1.1297e-12 - val_loss: 1.8946e-12\n"
     ]
    }
   ],
   "metadata": {}
  },
  {
   "cell_type": "code",
   "execution_count": 17,
   "source": [
    "# plot loss for model per iteration\n",
    "plt.plot(history.history['loss'], label='loss')\n",
    "plt.plot(history.history['val_loss'], label='val_loss')"
   ],
   "outputs": [
    {
     "output_type": "execute_result",
     "data": {
      "text/plain": [
       "[<matplotlib.lines.Line2D at 0x7fab2eb302d0>]"
      ]
     },
     "metadata": {},
     "execution_count": 17
    },
    {
     "output_type": "display_data",
     "data": {
      "image/png": "[encoded data removed]",
      "text/plain": [
       "<Figure size 432x288 with 1 Axes>"
      ]
     },
     "metadata": {
      "needs_background": "light"
     }
    }
   ],
   "metadata": {}
  },
  {
   "cell_type": "code",
   "execution_count": 36,
   "source": [
    "# forecasting\n",
    "validation_predictions = []\n",
    "\n",
    "# last train input (will be used at the first prediction only)\n",
    "last_x = X[-N//2]\n",
    "while len(validation_predictions) < len(Y_valid):\n",
    "    p = model.predict(last_x.reshape(1,-1))[0,0]\n",
    "    validation_predictions.append(p)\n",
    "    # making the new input or shifting the input\n",
    "    last_x = np.roll(last_x,-1)\n",
    "    # setting the prediction as the last value of\n",
    "    last_x[-1] = p"
   ],
   "outputs": [],
   "metadata": {}
  },
  {
   "cell_type": "code",
   "execution_count": 43,
   "source": [
    "plt.plot(Y_valid, label='forecast target',linewidth=4)\n",
    "plt.plot(validation_predictions, label='forecast prediction')\n",
    "plt.legend()"
   ],
   "outputs": [
    {
     "output_type": "execute_result",
     "data": {
      "text/plain": [
       "<matplotlib.legend.Legend at 0x7fab2ef5f210>"
      ]
     },
     "metadata": {},
     "execution_count": 43
    },
    {
     "output_type": "display_data",
     "data": {
      "image/png": "[encoded data removed]",
      "text/plain": [
       "<Figure size 432x288 with 1 Axes>"
      ]
     },
     "metadata": {
      "needs_background": "light"
     }
    }
   ],
   "metadata": {}
  },
  {
   "cell_type": "code",
   "execution_count": null,
   "source": [],
   "outputs": [],
   "metadata": {}
  }
 ],
 "metadata": {
  "orig_nbformat": 4,
  "language_info": {
   "name": "python",
   "version": "3.7.6",
   "mimetype": "text/x-python",
   "codemirror_mode": {
    "name": "ipython",
    "version": 3
   },
   "pygments_lexer": "ipython3",
   "nbconvert_exporter": "python",
   "file_extension": ".py"
  },
  "kernelspec": {
   "name": "python3",
   "display_name": "Python 3.7.6 64-bit ('base': conda)"
  },
  "interpreter": {
   "hash": "016f416f43c7de9d71e7f049375c6b8b903fae571cb02d2ed6c16dadea121115"
  }
 },
 "nbformat": 4,
 "nbformat_minor": 2
}